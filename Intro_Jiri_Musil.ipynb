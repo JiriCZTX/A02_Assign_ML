{
  "nbformat": 4,
  "nbformat_minor": 0,
  "metadata": {
    "colab": {
      "provenance": []
    },
    "kernelspec": {
      "name": "python3",
      "display_name": "Python 3"
    },
    "language_info": {
      "name": "python"
    }
  },
  "cells": [
    {
      "cell_type": "markdown",
      "source": [
        "Here is my first Markdown cell in Jupyter, as I embark on my exploration journey."
      ],
      "metadata": {
        "id": "qbl0Eu10OOgz"
      }
    },
    {
      "cell_type": "code",
      "source": [
        "name = \"Team Decepticon\"\n",
        "hobby = \"running,biking and cutting edge technology\"\n",
        "favorite_food = \"pizza\"\n",
        "\n",
        "print(f\"Hello! Our name is {name}.\")\n",
        "print(f\"We enjoy {hobby} and our favorite food is {favorite_food}.\")"
      ],
      "metadata": {
        "colab": {
          "base_uri": "https://localhost:8080/"
        },
        "id": "fVU5RHEiOyY9",
        "outputId": "965dfdc5-92fa-4efe-ae83-d139c1074179"
      },
      "execution_count": null,
      "outputs": [
        {
          "output_type": "stream",
          "name": "stdout",
          "text": [
            "Hello! Our name is Team Decepticon.\n",
            "We enjoy running,biking and cutting edge technology and our favorite food is pizza.\n"
          ]
        }
      ]
    }
  ]
}
